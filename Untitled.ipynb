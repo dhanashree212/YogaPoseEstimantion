{
 "cells": [
  {
   "cell_type": "code",
   "execution_count": 3,
   "id": "f171c3a8-42ec-4e87-9cd7-8607237e7ac9",
   "metadata": {},
   "outputs": [],
   "source": [
    "#if..... else\n",
    "#python program to check given number is greater or less than 50\n",
    "\n",
    "# if condition:\n",
    "  statements.....\n",
    "      else:\n",
    "  statements.... #"
   ]
  },
  {
   "cell_type": "code",
   "execution_count": 15,
   "id": "bb343589-188c-4ede-a6cd-c821e70bdda3",
   "metadata": {},
   "outputs": [
    {
     "name": "stdin",
     "output_type": "stream",
     "text": [
      "Enter the number :  50\n"
     ]
    },
    {
     "name": "stdout",
     "output_type": "stream",
     "text": [
      "50 is equal to 50\n"
     ]
    }
   ],
   "source": [
    "num = int(input(\"Enter the number : \"))\n",
    "if(num>50):\n",
    "    print (num,\"is greater than 50\")\n",
    "elif(num==50): print(num, \"is equal to 50\")\n",
    "else: print(num, \"less than 50\")"
   ]
  },
  {
   "cell_type": "code",
   "execution_count": null,
   "id": "56b88cc2-cddd-454d-b55a-ea98f31737a7",
   "metadata": {},
   "outputs": [],
   "source": []
  }
 ],
 "metadata": {
  "kernelspec": {
   "display_name": "Python 3 (ipykernel)",
   "language": "python",
   "name": "python3"
  },
  "language_info": {
   "codemirror_mode": {
    "name": "ipython",
    "version": 3
   },
   "file_extension": ".py",
   "mimetype": "text/x-python",
   "name": "python",
   "nbconvert_exporter": "python",
   "pygments_lexer": "ipython3",
   "version": "3.12.4"
  }
 },
 "nbformat": 4,
 "nbformat_minor": 5
}
